{
 "cells": [
  {
   "cell_type": "code",
   "execution_count": 1,
   "id": "5116c5a3-db37-480d-825c-dafd3f059ca2",
   "metadata": {},
   "outputs": [],
   "source": [
    "import ebooklib\n",
    "import pandas as pd\n",
    "from bs4 import BeautifulSoup\n",
    "\n",
    "def extract_textbook_categories(fpath):\n",
    "    mapping = {}\n",
    "    df = pd.read_csv(fpath, names=['href'])\n",
    "    for item in df.href.to_list():\n",
    "        soup = BeautifulSoup(item, 'html.parser')    \n",
    "        a_tag = soup.find('a')\n",
    "        uname = a_tag['href'].split('/')[-1]\n",
    "        mapping[uname] = a_tag.text\n",
    "    return mapping    \n",
    "\n",
    "\n",
    "data_root = \"/Users/jfries/Desktop/subject_area_open_textbooks/\"\n",
    "categories = {\n",
    "    'biology': extract_textbook_categories(f\"{data_root}/biology_open_textbook_library.txt\"),\n",
    "    'medicine': extract_textbook_categories(f\"{data_root}/medical_open_textbook_library.txt\"),\n",
    "}\n"
   ]
  },
  {
   "cell_type": "code",
   "execution_count": null,
   "id": "0befd28c-c146-4246-8d50-e80eaf49ddd6",
   "metadata": {},
   "outputs": [],
   "source": [
    "import requests\n",
    "import os\n",
    "from bs4 import BeautifulSoup\n",
    "from urllib.parse import urlparse\n",
    "\n",
    "def download_and_save_url(name, url, output_folder, overwrite=False, include_domain=False):\n",
    "    \n",
    "    if not overwrite: \n",
    "        filenames = [\n",
    "            os.path.join(output_folder, f'{name}.html'),\n",
    "            os.path.join(output_folder, f'{name}.pdf')\n",
    "        ]\n",
    "        for fpath in filenames:\n",
    "            if os.path.exists(fpath):\n",
    "                return\n",
    "\n",
    "    headers = {\n",
    "        \"User-Agent\": \"Mozilla/5.0 (Windows NT 10.0; Win64; x64) AppleWebKit/537.36 (KHTML, like Gecko) Chrome/116.0.0.0 Safari/537.36\",\n",
    "        \"Accept\": \"text/html,application/xhtml+xml,application/xml;q=0.9,image/avif,image/webp,*/*;q=0.8\",\n",
    "        \"Accept-Language\": \"en-US,en;q=0.5\",\n",
    "        \"Accept-Encoding\": \"gzip, deflate\",\n",
    "        \"Connection\": \"keep-alive\",\n",
    "        \"Upgrade-Insecure-Requests\": \"1\",\n",
    "        \"Sec-Fetch-Dest\": \"document\",\n",
    "        \"Sec-Fetch-Mode\": \"navigate\",\n",
    "        \"Sec-Fetch-Site\": \"none\",\n",
    "        \"Sec-Fetch-User\": \"?1\",\n",
    "        \"Cache-Control\": \"max-age=0\",\n",
    "    }\n",
    "    \n",
    "    \n",
    "    # Send a GET request to the URL\n",
    "    response = requests.get(url, headers=headers)\n",
    "    \n",
    "    # Check if the request was successful\n",
    "    if response.status_code == 200:\n",
    "        \n",
    "        # Get the final URL after following redirects\n",
    "        final_url = response.url\n",
    "        \n",
    "        # Get the content type from the response headers\n",
    "        content_type = response.headers.get('Content-Type', '').lower()\n",
    "        \n",
    "         # Parse the URL to extract the domain\n",
    "        parsed_url = urlparse(final_url)\n",
    "        domain = parsed_url.netloc\n",
    "        \n",
    "        # Check if the content type is HTML\n",
    "        if 'html' in content_type:\n",
    "            # If it's HTML, save it as .html\n",
    "            outfpath = f'{domain}_{name}.html' if include_domain else f'{name}.html'\n",
    "            filename = os.path.join(output_folder, outfpath)\n",
    "            with open(filename, 'wb') as f:\n",
    "                f.write(response.content)\n",
    "        else:\n",
    "            outfpath = f'{domain}_{name}.pdf' if include_domain else f'{name}.pdf'\n",
    "            # If it's not HTML, save it as .pdf\n",
    "            filename = os.path.join(output_folder, outfpath)\n",
    "            with open(filename, 'wb') as f:\n",
    "                f.write(response.content)\n",
    "    else:\n",
    "        print(f'Failed to download URL. Status code: {name} | {url} | {response.status_code}')"
   ]
  },
  {
   "cell_type": "code",
   "execution_count": 111,
   "id": "8a055ff3-58e9-477e-96f1-7ce928880bb7",
   "metadata": {},
   "outputs": [
    {
     "name": "stdout",
     "output_type": "stream",
     "text": [
      "{'MS Word': 'https://open.umn.edu/opentextbooks/formats/1418'}\n",
      "{'Google Doc': 'https://open.umn.edu/opentextbooks/formats/3049'}\n"
     ]
    },
    {
     "data": {
      "text/html": [
       "<div>\n",
       "<style scoped>\n",
       "    .dataframe tbody tr th:only-of-type {\n",
       "        vertical-align: middle;\n",
       "    }\n",
       "\n",
       "    .dataframe tbody tr th {\n",
       "        vertical-align: top;\n",
       "    }\n",
       "\n",
       "    .dataframe thead th {\n",
       "        text-align: right;\n",
       "    }\n",
       "</style>\n",
       "<table border=\"1\" class=\"dataframe\">\n",
       "  <thead>\n",
       "    <tr style=\"text-align: right;\">\n",
       "      <th></th>\n",
       "      <th>category</th>\n",
       "      <th>license</th>\n",
       "      <th>key</th>\n",
       "      <th>textbook_name</th>\n",
       "      <th>format</th>\n",
       "      <th>url</th>\n",
       "    </tr>\n",
       "  </thead>\n",
       "  <tbody>\n",
       "    <tr>\n",
       "      <th>0</th>\n",
       "      <td>biology</td>\n",
       "      <td>CC BY</td>\n",
       "      <td>introducing-mathematical-biology</td>\n",
       "      <td>Introducing Mathematical Biology</td>\n",
       "      <td>eBook</td>\n",
       "      <td>https://open.umn.edu/opentextbooks/formats/3650</td>\n",
       "    </tr>\n",
       "    <tr>\n",
       "      <th>1</th>\n",
       "      <td>biology</td>\n",
       "      <td>CC BY-NC-SA</td>\n",
       "      <td>threshold-concepts-in-biochemistry</td>\n",
       "      <td>Threshold Concepts in Biochemistry</td>\n",
       "      <td>eBook</td>\n",
       "      <td>https://open.umn.edu/opentextbooks/formats/3599</td>\n",
       "    </tr>\n",
       "    <tr>\n",
       "      <th>2</th>\n",
       "      <td>biology</td>\n",
       "      <td>CC BY</td>\n",
       "      <td>anatomy-and-physiology-laboratory-manual-for-n...</td>\n",
       "      <td>Anatomy and Physiology Laboratory Manual for N...</td>\n",
       "      <td>eBook</td>\n",
       "      <td>https://open.umn.edu/opentextbooks/formats/3584</td>\n",
       "    </tr>\n",
       "    <tr>\n",
       "      <th>3</th>\n",
       "      <td>biology</td>\n",
       "      <td>CC BY-NC</td>\n",
       "      <td>introduction-to-systems-biology-workbook-for-f...</td>\n",
       "      <td>Introduction to Systems Biology: Workbook for ...</td>\n",
       "      <td>PDF</td>\n",
       "      <td>https://open.umn.edu/opentextbooks/formats/3457</td>\n",
       "    </tr>\n",
       "    <tr>\n",
       "      <th>4</th>\n",
       "      <td>biology</td>\n",
       "      <td>CC BY-NC</td>\n",
       "      <td>introduction-to-biological-psychology</td>\n",
       "      <td>Introduction to Biological Psychology</td>\n",
       "      <td>eBook</td>\n",
       "      <td>https://open.umn.edu/opentextbooks/formats/3416</td>\n",
       "    </tr>\n",
       "    <tr>\n",
       "      <th>...</th>\n",
       "      <td>...</td>\n",
       "      <td>...</td>\n",
       "      <td>...</td>\n",
       "      <td>...</td>\n",
       "      <td>...</td>\n",
       "      <td>...</td>\n",
       "    </tr>\n",
       "    <tr>\n",
       "      <th>106</th>\n",
       "      <td>medicine</td>\n",
       "      <td>CC BY</td>\n",
       "      <td>supporting-individuals-with-intellectual-disab...</td>\n",
       "      <td>Supporting Individuals with Intellectual Disab...</td>\n",
       "      <td>eBook</td>\n",
       "      <td>https://open.umn.edu/opentextbooks/formats/1741</td>\n",
       "    </tr>\n",
       "    <tr>\n",
       "      <th>107</th>\n",
       "      <td>medicine</td>\n",
       "      <td>CC BY-NC</td>\n",
       "      <td>field-trials-of-health-interventions-a-toolbox</td>\n",
       "      <td>Field Trials of Health Interventions: A Toolbox</td>\n",
       "      <td>Online</td>\n",
       "      <td>https://open.umn.edu/opentextbooks/formats/463</td>\n",
       "    </tr>\n",
       "    <tr>\n",
       "      <th>108</th>\n",
       "      <td>medicine</td>\n",
       "      <td>CC BY</td>\n",
       "      <td>clinical-procedures-for-safer-patient-care</td>\n",
       "      <td>Clinical Procedures for Safer Patient Care</td>\n",
       "      <td>eBook</td>\n",
       "      <td>https://open.umn.edu/opentextbooks/formats/1559</td>\n",
       "    </tr>\n",
       "    <tr>\n",
       "      <th>109</th>\n",
       "      <td>medicine</td>\n",
       "      <td>CC BY-NC-SA</td>\n",
       "      <td>creative-clinical-teaching-in-the-health-profe...</td>\n",
       "      <td>Creative Clinical Teaching In The Health Profe...</td>\n",
       "      <td>eBook</td>\n",
       "      <td>https://open.umn.edu/opentextbooks/formats/740</td>\n",
       "    </tr>\n",
       "    <tr>\n",
       "      <th>110</th>\n",
       "      <td>medicine</td>\n",
       "      <td>CC BY-NC-SA</td>\n",
       "      <td>nursing-care-at-the-end-of-life-what-every-cli...</td>\n",
       "      <td>Nursing Care at the End of Life: What Every Cl...</td>\n",
       "      <td>eBook</td>\n",
       "      <td>https://open.umn.edu/opentextbooks/formats/196</td>\n",
       "    </tr>\n",
       "  </tbody>\n",
       "</table>\n",
       "<p>111 rows × 6 columns</p>\n",
       "</div>"
      ],
      "text/plain": [
       "     category      license                                                key  \\\n",
       "0     biology        CC BY                   introducing-mathematical-biology   \n",
       "1     biology  CC BY-NC-SA                 threshold-concepts-in-biochemistry   \n",
       "2     biology        CC BY  anatomy-and-physiology-laboratory-manual-for-n...   \n",
       "3     biology     CC BY-NC  introduction-to-systems-biology-workbook-for-f...   \n",
       "4     biology     CC BY-NC              introduction-to-biological-psychology   \n",
       "..        ...          ...                                                ...   \n",
       "106  medicine        CC BY  supporting-individuals-with-intellectual-disab...   \n",
       "107  medicine     CC BY-NC     field-trials-of-health-interventions-a-toolbox   \n",
       "108  medicine        CC BY         clinical-procedures-for-safer-patient-care   \n",
       "109  medicine  CC BY-NC-SA  creative-clinical-teaching-in-the-health-profe...   \n",
       "110  medicine  CC BY-NC-SA  nursing-care-at-the-end-of-life-what-every-cli...   \n",
       "\n",
       "                                         textbook_name  format  \\\n",
       "0                     Introducing Mathematical Biology   eBook   \n",
       "1                   Threshold Concepts in Biochemistry   eBook   \n",
       "2    Anatomy and Physiology Laboratory Manual for N...   eBook   \n",
       "3    Introduction to Systems Biology: Workbook for ...     PDF   \n",
       "4                Introduction to Biological Psychology   eBook   \n",
       "..                                                 ...     ...   \n",
       "106  Supporting Individuals with Intellectual Disab...   eBook   \n",
       "107    Field Trials of Health Interventions: A Toolbox  Online   \n",
       "108         Clinical Procedures for Safer Patient Care   eBook   \n",
       "109  Creative Clinical Teaching In The Health Profe...   eBook   \n",
       "110  Nursing Care at the End of Life: What Every Cl...   eBook   \n",
       "\n",
       "                                                 url  \n",
       "0    https://open.umn.edu/opentextbooks/formats/3650  \n",
       "1    https://open.umn.edu/opentextbooks/formats/3599  \n",
       "2    https://open.umn.edu/opentextbooks/formats/3584  \n",
       "3    https://open.umn.edu/opentextbooks/formats/3457  \n",
       "4    https://open.umn.edu/opentextbooks/formats/3416  \n",
       "..                                               ...  \n",
       "106  https://open.umn.edu/opentextbooks/formats/1741  \n",
       "107   https://open.umn.edu/opentextbooks/formats/463  \n",
       "108  https://open.umn.edu/opentextbooks/formats/1559  \n",
       "109   https://open.umn.edu/opentextbooks/formats/740  \n",
       "110   https://open.umn.edu/opentextbooks/formats/196  \n",
       "\n",
       "[111 rows x 6 columns]"
      ]
     },
     "execution_count": 111,
     "metadata": {},
     "output_type": "execute_result"
    }
   ],
   "source": [
    "import glob \n",
    "import collections\n",
    "from tqdm import tqdm \n",
    "\n",
    "def get_textbook_formats(soup, domain=\"https://open.umn.edu\"):\n",
    "    formats = {}\n",
    "    links = soup.find_all('a')\n",
    "    for a in links:\n",
    "        formats[a.text] = a['href'] if a['href'][0] != \"/\" else f\"{domain}{a['href']}\"\n",
    "    return formats\n",
    "    \n",
    "filelist = glob.glob('/Users/jfries/Desktop/open_textbook_library_final/opentextbook-detail-webpages/*')\n",
    "filelist  = {fpath.split('/')[-1].split('.')[0]:fpath for fpath in filelist}\n",
    "\n",
    "\n",
    "urls = []\n",
    "for category in categories:\n",
    "    for key in categories[category]:\n",
    "        # missing some files due to age of cache\n",
    "        if key not in filelist:\n",
    "            continue\n",
    "    \n",
    "        fpath = filelist[key]\n",
    "        \n",
    "        soup = BeautifulSoup(open(fpath, 'r').read(), 'html.parser') \n",
    "        # find best copy of available textbooks\n",
    "        formats = soup.find('section', attrs={'id':'Formats'})\n",
    "        formats = get_textbook_formats(formats)\n",
    "    \n",
    "        license = soup.find('section', attrs={'id':'License'}) \n",
    "        license = license.find('span').text\n",
    "\n",
    "        if 'eBook' in formats:\n",
    "            fmt = 'eBook'\n",
    "            \n",
    "        elif 'Online' in formats:\n",
    "            fmt =  'Online'\n",
    "            \n",
    "        elif 'PDF' in formats:\n",
    "            fmt = 'PDF'\n",
    "            \n",
    "        else:\n",
    "            freq['missing'] += 1\n",
    "            continue\n",
    "            \n",
    "        urls.append([category, license, key, categories[category][key], fmt, formats[fmt]])\n",
    "\n",
    "df = pd.DataFrame(urls, columns=['category', 'license', 'key', 'textbook_name', 'format', 'url'])\n",
    "df"
   ]
  },
  {
   "cell_type": "code",
   "execution_count": 99,
   "id": "a840c3a4-3fde-4073-8e45-c16a6f9df75f",
   "metadata": {},
   "outputs": [],
   "source": [
    "import requests\n",
    "from bs4 import BeautifulSoup\n",
    "\n",
    "headers = {\n",
    "    \"User-Agent\": \"Mozilla/5.0 (Windows NT 10.0; Win64; x64) AppleWebKit/537.36 (KHTML, like Gecko) Chrome/116.0.0.0 Safari/537.36\",\n",
    "    \"Accept\": \"text/html,application/xhtml+xml,application/xml;q=0.9,image/avif,image/webp,*/*;q=0.8\",\n",
    "    \"Accept-Language\": \"en-US,en;q=0.5\",\n",
    "    \"Accept-Encoding\": \"gzip, deflate\",\n",
    "    \"Connection\": \"keep-alive\",\n",
    "    \"Upgrade-Insecure-Requests\": \"1\",\n",
    "    \"Sec-Fetch-Dest\": \"document\",\n",
    "    \"Sec-Fetch-Mode\": \"navigate\",\n",
    "    \"Sec-Fetch-Site\": \"none\",\n",
    "    \"Sec-Fetch-User\": \"?1\",\n",
    "    \"Cache-Control\": \"max-age=0\",\n",
    "}\n",
    "    \n",
    "def is_html(response):\n",
    "    \"\"\"\n",
    "    Check if the response contains HTML content.\n",
    "    \"\"\"\n",
    "    content_type = response.headers.get(\"Content-Type\", \"\").lower()\n",
    "    if \"html\" in content_type:\n",
    "        return True\n",
    "    try:\n",
    "        # Attempt to parse the content with BeautifulSoup\n",
    "        soup = BeautifulSoup(response.content, 'html.parser')\n",
    "        if soup.find('html'):\n",
    "            return True\n",
    "    except:\n",
    "        pass\n",
    "    return False\n",
    "\n",
    "def determine_file_type(url, headers=None):\n",
    "    \"\"\"\n",
    "    Determine if a URL points to an HTML file or a binary file.\n",
    "    Returns reponse, file extension\n",
    "    \"\"\"\n",
    "    magic_numbers_to_type = {\n",
    "        b'\\x25\\x50\\x44\\x46': 'pdf',\n",
    "        b'PK\\x03\\x04': 'epub',\n",
    "    }\n",
    "    try:\n",
    "        response = requests.get(url, headers=headers)\n",
    "        if is_html(response):\n",
    "            return response, 'html'\n",
    "            \n",
    "        else:\n",
    "            for magic_num, ext in magic_numbers_to_type.items():\n",
    "                if response.content.startswith(magic_num):\n",
    "                    return response, ext\n",
    "            return response, \"binary\"\n",
    "            \n",
    "    except Exception as e:\n",
    "        return f\"Error: {e}\", \"unknown\"\n"
   ]
  },
  {
   "cell_type": "code",
   "execution_count": 115,
   "id": "2e1311d2-8e7f-4d6c-a000-dbc0671f7411",
   "metadata": {},
   "outputs": [
    {
     "name": "stdout",
     "output_type": "stream",
     "text": [
      "62\n"
     ]
    }
   ],
   "source": [
    "def write_file(content, fpath):\n",
    "    with open(fpath, 'wb') as f:\n",
    "        f.write(content)  \n",
    "\n",
    "cache_dir = \"/Users/jfries/Desktop/open_textbook_library_final/cache/\"\n",
    "cache = set([x.split('/')[-1].split('.')[0] for x in glob.glob(f'{cache_dir}/binary/*')])\n",
    "#cache = cache | set([x.split('/')[-1].split('.')[0] for x in glob.glob(f'{cache_dir}/html/*')])\n",
    "\n",
    "print(len(cache))"
   ]
  },
  {
   "cell_type": "code",
   "execution_count": 116,
   "id": "a9a513a9-c22d-4b0b-a69b-1cab6d5fd968",
   "metadata": {},
   "outputs": [
    {
     "name": "stdout",
     "output_type": "stream",
     "text": [
      "biomedical-engineering-for-africa https://open.umn.edu/opentextbooks/formats/3191\n",
      "introduction-to-genetics https://open.umn.edu/opentextbooks/formats/3188\n",
      "the-science-of-sleep https://open.umn.edu/opentextbooks/formats/3001\n",
      "microbiology-a-laboratory-experience https://open.umn.edu/opentextbooks/formats/2570\n",
      "introduction-to-biosystems-engineering https://open.umn.edu/opentextbooks/formats/2367\n",
      "quality-assurance-regulatory-affairs-for-the-biosciences https://open.umn.edu/opentextbooks/formats/1794\n",
      "biochemistry-free-for-all-ahern https://open.umn.edu/opentextbooks/formats/2150\n",
      "explorations-an-open-invitation-to-biological-anthropology-shook https://open.umn.edu/opentextbooks/formats/1797\n",
      "biotechnology-foundations https://open.umn.edu/opentextbooks/formats/1437\n",
      "quantitative-ecology-a-new-unified-approach https://open.umn.edu/opentextbooks/formats/1280\n",
      "unfolding-the-mystery-of-life-biology-lab-manual-for-non-science-majors https://open.umn.edu/opentextbooks/formats/1253\n",
      "an-introduction-to-nutrition https://open.umn.edu/opentextbooks/formats/1791\n",
      "phylogenetic-comparative-methods https://open.umn.edu/opentextbooks/formats/1190\n",
      "health-education https://open.umn.edu/opentextbooks/formats/1141\n",
      "kansas-state-university-human-nutrition-flexbook https://open.umn.edu/opentextbooks/formats/1131\n",
      "human-biology https://open.umn.edu/opentextbooks/formats/927\n",
      "microbiology-for-allied-health-students https://open.umn.edu/opentextbooks/formats/897\n",
      "human-anatomy-and-physiology-preparatory-course https://open.umn.edu/opentextbooks/formats/2804\n",
      "microbiology https://open.umn.edu/opentextbooks/formats/1008\n",
      "cell-and-molecular-biology-2e-what-we-know-how-we-found-out https://open.umn.edu/opentextbooks/formats/437\n",
      "psychology-as-a-biological-science https://open.umn.edu/opentextbooks/formats/2049\n",
      "introduction-to-human-osteology https://open.umn.edu/opentextbooks/formats/800\n",
      "concepts-of-biology https://open.umn.edu/opentextbooks/formats/128\n",
      "anatomy-and-physiology https://open.umn.edu/opentextbooks/formats/120\n",
      "biology-2e https://open.umn.edu/opentextbooks/formats/1021\n",
      "general-inpatient-management-of-pediatric-diabetes-mellitus-at-university-of-iowa-stead-family-children-s-hospital https://open.umn.edu/opentextbooks/formats/3729\n",
      "introduction-to-implant-prosthodontics-a-case-based-clinical-guide https://open.umn.edu/opentextbooks/formats/3136\n",
      "healthcare-in-the-united-states-navigating-the-basics-of-a-complex-system https://open.umn.edu/opentextbooks/formats/3098\n",
      "the-science-of-sleep https://open.umn.edu/opentextbooks/formats/3001\n",
      "principles-of-epidemiology https://open.umn.edu/opentextbooks/formats/2990\n",
      "applying-the-international-classification-of-functioning-disability-health-a-team-based-project-based-course-for-undergraduate-students https://open.umn.edu/opentextbooks/formats/2818\n",
      "public-health-in-pharmacy-practice-a-casebook https://open.umn.edu/opentextbooks/formats/2628\n",
      "transitions-to-professional-nursing-practice-2nd-edition https://open.umn.edu/opentextbooks/formats/3278\n",
      "safety-health-and-nutrition-in-early-childhood-education https://open.umn.edu/opentextbooks/formats/1785\n",
      "interpreting-canada-s-2019-food-guide-and-food-labelling-for-health-professionals-lapum https://open.umn.edu/opentextbooks/formats/1675\n",
      "the-complete-subjective-health-assessment-lapum https://open.umn.edu/opentextbooks/formats/1747\n",
      "vaccine-practice-for-health-professionals-1st-canadian-edition-st-amant https://open.umn.edu/opentextbooks/formats/1762\n",
      "evidence-based-massage-therapy https://open.umn.edu/opentextbooks/formats/1638\n",
      "drugs-quality-control-theoretical-foundation-and-practical-application-the-coursebook https://open.umn.edu/opentextbooks/formats/1312\n",
      "kansas-state-university-human-nutrition-flexbook https://open.umn.edu/opentextbooks/formats/1131\n",
      "field-trials-of-health-interventions-a-toolbox https://open.umn.edu/opentextbooks/formats/463\n",
      "creative-clinical-teaching-in-the-health-professions https://open.umn.edu/opentextbooks/formats/740\n",
      "nursing-care-at-the-end-of-life-what-every-clinician-should-know https://open.umn.edu/opentextbooks/formats/196\n"
     ]
    }
   ],
   "source": [
    "for row in df.itertuples():\n",
    "    \n",
    "    if row.key in cache:\n",
    "        #print(f\"SKIPPING {row.category} | {row.key}\")\n",
    "        continue\n",
    "    \n",
    "    print(row.key, row.url)\n",
    "    # response, ext = determine_file_type(row.url, headers)\n",
    "    \n",
    "    # if ext == \"html\":\n",
    "    #     # cache\n",
    "    #     write_file(response.content, f\"{cache_dir}/html/{row.key}.{ext}\")\n",
    "    # elif ext in [\"pdf\", \"epub\"]:\n",
    "    #     write_file(response.content, f\"{cache_dir}/binary/{row.key}.{ext}\")\n",
    "    # else:\n",
    "    #     print(f\"{row.key}: unrecognized binary file\")"
   ]
  },
  {
   "cell_type": "markdown",
   "id": "41e708bb-9b8b-4cf3-91f4-5cf640b750b5",
   "metadata": {},
   "source": [
    "## Fetch HTML Links\n",
    "Some Open Textbook Library links lead to external hosting sites that provide various formats. We try to find the best download from this page."
   ]
  },
  {
   "cell_type": "code",
   "execution_count": 110,
   "id": "ee7b7ee7-5b44-4785-be17-2bb707fde32b",
   "metadata": {},
   "outputs": [
    {
     "name": "stdout",
     "output_type": "stream",
     "text": [
      "https://newprairiepress.org/ebooks\n",
      "nursing-care-at-the-end-of-life-what-every-clinician-should-know: unrecognized binary file\n",
      "https://openoregon.pressbooks.pub/bodyphysics/open/download?type=epub\n"
     ]
    },
    {
     "name": "stderr",
     "output_type": "stream",
     "text": [
      "Some characters could not be decoded, and were replaced with REPLACEMENT CHARACTER.\n"
     ]
    },
    {
     "name": "stdout",
     "output_type": "stream",
     "text": [
      "https://openbooks.lib.msu.edu/isb202/open/download?type=epub3\n"
     ]
    },
    {
     "name": "stderr",
     "output_type": "stream",
     "text": [
      "Some characters could not be decoded, and were replaced with REPLACEMENT CHARACTER.\n"
     ]
    },
    {
     "name": "stdout",
     "output_type": "stream",
     "text": [
      "https://openoregon.pressbooks.pub/mhccbiology101/open/download?type=epub\n"
     ]
    },
    {
     "name": "stderr",
     "output_type": "stream",
     "text": [
      "Some characters could not be decoded, and were replaced with REPLACEMENT CHARACTER.\n"
     ]
    },
    {
     "name": "stdout",
     "output_type": "stream",
     "text": [
      "https://wtcs.pressbooks.pub/nursingfundamentals/open/download?type=epub\n"
     ]
    },
    {
     "name": "stderr",
     "output_type": "stream",
     "text": [
      "Some characters could not be decoded, and were replaced with REPLACEMENT CHARACTER.\n"
     ]
    },
    {
     "name": "stdout",
     "output_type": "stream",
     "text": [
      "https://usq.pressbooks.pub/anatomy/open/download?type=epub\n"
     ]
    },
    {
     "name": "stderr",
     "output_type": "stream",
     "text": [
      "Some characters could not be decoded, and were replaced with REPLACEMENT CHARACTER.\n"
     ]
    },
    {
     "name": "stdout",
     "output_type": "stream",
     "text": [
      "https://open.oregonstate.education/computationalbiology/open/download?type=epub\n"
     ]
    },
    {
     "name": "stderr",
     "output_type": "stream",
     "text": [
      "Some characters could not be decoded, and were replaced with REPLACEMENT CHARACTER.\n"
     ]
    },
    {
     "name": "stdout",
     "output_type": "stream",
     "text": [
      "https://open.oregonstate.education/epidemiology/open/download?type=epub\n"
     ]
    },
    {
     "name": "stderr",
     "output_type": "stream",
     "text": [
      "Some characters could not be decoded, and were replaced with REPLACEMENT CHARACTER.\n"
     ]
    },
    {
     "name": "stdout",
     "output_type": "stream",
     "text": [
      "https://openpress.usask.ca/undergradimaging/open/download?type=epub\n"
     ]
    },
    {
     "name": "stderr",
     "output_type": "stream",
     "text": [
      "Some characters could not be decoded, and were replaced with REPLACEMENT CHARACTER.\n"
     ]
    },
    {
     "name": "stdout",
     "output_type": "stream",
     "text": [
      "https://press.rebus.community/literaturereviewsedunursing/open/download?type=epub\n"
     ]
    },
    {
     "name": "stderr",
     "output_type": "stream",
     "text": [
      "Some characters could not be decoded, and were replaced with REPLACEMENT CHARACTER.\n"
     ]
    },
    {
     "name": "stdout",
     "output_type": "stream",
     "text": [
      "https://open.oregonstate.education/generalmicrobiology/open/download?type=epub\n"
     ]
    },
    {
     "name": "stderr",
     "output_type": "stream",
     "text": [
      "Some characters could not be decoded, and were replaced with REPLACEMENT CHARACTER.\n"
     ]
    },
    {
     "name": "stdout",
     "output_type": "stream",
     "text": [
      "https://wtcs.pressbooks.pub/nursingskills/open/download?type=epub\n"
     ]
    },
    {
     "name": "stderr",
     "output_type": "stream",
     "text": [
      "Some characters could not be decoded, and were replaced with REPLACEMENT CHARACTER.\n"
     ]
    },
    {
     "name": "stdout",
     "output_type": "stream",
     "text": [
      "https://oercollective.caul.edu.au/threshold-concepts-in-biochemistry/open/download?type=epub\n"
     ]
    },
    {
     "name": "stderr",
     "output_type": "stream",
     "text": [
      "Some characters could not be decoded, and were replaced with REPLACEMENT CHARACTER.\n"
     ]
    },
    {
     "name": "stdout",
     "output_type": "stream",
     "text": [
      "/bitstreams/201b50ec-910b-4d6f-8ffb-2b6e4c7897ec/download\n",
      "nursing-care-at-the-end-of-life-what-every-clinician-should-know: unrecognized binary file\n",
      "https://openeducationalberta.ca/mlsci/open/download?type=epub\n"
     ]
    },
    {
     "name": "stderr",
     "output_type": "stream",
     "text": [
      "Some characters could not be decoded, and were replaced with REPLACEMENT CHARACTER.\n"
     ]
    },
    {
     "name": "stdout",
     "output_type": "stream",
     "text": [
      "https://pressbooks.pub/clinicalteaching/open/download?type=epub\n",
      "nursing-care-at-the-end-of-life-what-every-clinician-should-know: unrecognized binary file\n",
      "https://open.oregonstate.education/generalmicrobiology/open/download?type=epub\n"
     ]
    },
    {
     "name": "stderr",
     "output_type": "stream",
     "text": [
      "Some characters could not be decoded, and were replaced with REPLACEMENT CHARACTER.\n"
     ]
    },
    {
     "name": "stdout",
     "output_type": "stream",
     "text": [
      "https://opentextbc.ca/caregivers/open/download?type=epub\n"
     ]
    },
    {
     "name": "stderr",
     "output_type": "stream",
     "text": [
      "Some characters could not be decoded, and were replaced with REPLACEMENT CHARACTER.\n"
     ]
    },
    {
     "name": "stdout",
     "output_type": "stream",
     "text": [
      "https://pressbooks.uwf.edu/medicalterminology/open/download?type=epub\n"
     ]
    },
    {
     "name": "stderr",
     "output_type": "stream",
     "text": [
      "Some characters could not be decoded, and were replaced with REPLACEMENT CHARACTER.\n"
     ]
    },
    {
     "name": "stdout",
     "output_type": "stream",
     "text": [
      "https://openoregon.pressbooks.pub/mhccbiology102/open/download?type=epub\n"
     ]
    },
    {
     "name": "stderr",
     "output_type": "stream",
     "text": [
      "Some characters could not be decoded, and were replaced with REPLACEMENT CHARACTER.\n"
     ]
    },
    {
     "name": "stdout",
     "output_type": "stream",
     "text": [
      "https://wtcs.pressbooks.pub/nursingadvancedskills/open/download?type=epub\n"
     ]
    },
    {
     "name": "stderr",
     "output_type": "stream",
     "text": [
      "Some characters could not be decoded, and were replaced with REPLACEMENT CHARACTER.\n"
     ]
    },
    {
     "name": "stdout",
     "output_type": "stream",
     "text": [
      "https://openoregon.pressbooks.pub/mhccmajorsbio/open/download?type=epub3\n"
     ]
    },
    {
     "name": "stderr",
     "output_type": "stream",
     "text": [
      "Some characters could not be decoded, and were replaced with REPLACEMENT CHARACTER.\n"
     ]
    },
    {
     "name": "stdout",
     "output_type": "stream",
     "text": [
      "https://uta.pressbooks.pub/anatomylab/open/download?type=epub\n"
     ]
    },
    {
     "name": "stderr",
     "output_type": "stream",
     "text": [
      "Some characters could not be decoded, and were replaced with REPLACEMENT CHARACTER.\n"
     ]
    },
    {
     "name": "stdout",
     "output_type": "stream",
     "text": [
      "https://openoregon.pressbooks.pub/nutritionscience/open/download?type=epub\n"
     ]
    },
    {
     "name": "stderr",
     "output_type": "stream",
     "text": [
      "Some characters could not be decoded, and were replaced with REPLACEMENT CHARACTER.\n"
     ]
    },
    {
     "name": "stdout",
     "output_type": "stream",
     "text": [
      "https://www.facebook.com/sharer/sharer.php?u=https://archive.org/details/cnx-org-col11903\n",
      "nursing-care-at-the-end-of-life-what-every-clinician-should-know: unrecognized binary file\n",
      "https://pressbooks.uwf.edu/healthcarecareerfoundations/open/download?type=epub\n"
     ]
    },
    {
     "name": "stderr",
     "output_type": "stream",
     "text": [
      "Some characters could not be decoded, and were replaced with REPLACEMENT CHARACTER.\n"
     ]
    },
    {
     "name": "stdout",
     "output_type": "stream",
     "text": [
      "https://wtcs.pressbooks.pub/nursingmhcc/open/download?type=epub\n"
     ]
    },
    {
     "name": "stderr",
     "output_type": "stream",
     "text": [
      "Some characters could not be decoded, and were replaced with REPLACEMENT CHARACTER.\n"
     ]
    },
    {
     "name": "stdout",
     "output_type": "stream",
     "text": [
      "https://opentextbc.ca/clinicalskills/open/download?type=epub\n"
     ]
    },
    {
     "name": "stderr",
     "output_type": "stream",
     "text": [
      "Some characters could not be decoded, and were replaced with REPLACEMENT CHARACTER.\n"
     ]
    },
    {
     "name": "stdout",
     "output_type": "stream",
     "text": [
      "http://pressbooks.oer.hawaii.edu/humannutrition2/open/download?type=epub\n"
     ]
    },
    {
     "name": "stderr",
     "output_type": "stream",
     "text": [
      "Some characters could not be decoded, and were replaced with REPLACEMENT CHARACTER.\n"
     ]
    },
    {
     "name": "stdout",
     "output_type": "stream",
     "text": [
      "https://wtcs.pressbooks.pub/nursingmpc/open/download?type=epub\n"
     ]
    },
    {
     "name": "stderr",
     "output_type": "stream",
     "text": [
      "Some characters could not be decoded, and were replaced with REPLACEMENT CHARACTER.\n"
     ]
    },
    {
     "name": "stdout",
     "output_type": "stream",
     "text": [
      "https://iastate.pressbooks.pub/curehumanphysiology/open/download?type=epub\n"
     ]
    },
    {
     "name": "stderr",
     "output_type": "stream",
     "text": [
      "Some characters could not be decoded, and were replaced with REPLACEMENT CHARACTER.\n"
     ]
    },
    {
     "name": "stdout",
     "output_type": "stream",
     "text": [
      "https://openoregon.pressbooks.pub/envirobiology/open/download?type=epub3\n"
     ]
    },
    {
     "name": "stderr",
     "output_type": "stream",
     "text": [
      "Some characters could not be decoded, and were replaced with REPLACEMENT CHARACTER.\n"
     ]
    },
    {
     "name": "stdout",
     "output_type": "stream",
     "text": [
      "https://openoregon.pressbooks.pub/histologyandembryology/open/download?type=epub3\n"
     ]
    },
    {
     "name": "stderr",
     "output_type": "stream",
     "text": [
      "Some characters could not be decoded, and were replaced with REPLACEMENT CHARACTER.\n"
     ]
    },
    {
     "name": "stdout",
     "output_type": "stream",
     "text": [
      "https://wtcs.pressbooks.pub/pharmacology/open/download?type=epub\n"
     ]
    },
    {
     "name": "stderr",
     "output_type": "stream",
     "text": [
      "Some characters could not be decoded, and were replaced with REPLACEMENT CHARACTER.\n"
     ]
    },
    {
     "name": "stdout",
     "output_type": "stream",
     "text": [
      "https://pressbooks.uwf.edu/ushealthcaresystem/open/download?type=epub\n"
     ]
    },
    {
     "name": "stderr",
     "output_type": "stream",
     "text": [
      "Some characters could not be decoded, and were replaced with REPLACEMENT CHARACTER.\n"
     ]
    },
    {
     "name": "stdout",
     "output_type": "stream",
     "text": [
      "https://sheffield.pressbooks.pub/introducingmathematicalbiology/open/download?type=epub\n"
     ]
    },
    {
     "name": "stderr",
     "output_type": "stream",
     "text": [
      "Some characters could not be decoded, and were replaced with REPLACEMENT CHARACTER.\n"
     ]
    },
    {
     "name": "stdout",
     "output_type": "stream",
     "text": [
      "https://pressbooks.bccampus.ca/healthcasestudies/open/download?type=epub\n"
     ]
    },
    {
     "name": "stderr",
     "output_type": "stream",
     "text": [
      "Some characters could not be decoded, and were replaced with REPLACEMENT CHARACTER.\n"
     ]
    },
    {
     "name": "stdout",
     "output_type": "stream",
     "text": [
      "http://pressbooks.oer.hawaii.edu/anatomyandphysiology2lab/open/download?type=epub\n"
     ]
    },
    {
     "name": "stderr",
     "output_type": "stream",
     "text": [
      "Some characters could not be decoded, and were replaced with REPLACEMENT CHARACTER.\n"
     ]
    },
    {
     "name": "stdout",
     "output_type": "stream",
     "text": [
      "https://openbooks.lib.msu.edu/neuroscience/open/download?type=epub3\n"
     ]
    },
    {
     "name": "stderr",
     "output_type": "stream",
     "text": [
      "Some characters could not be decoded, and were replaced with REPLACEMENT CHARACTER.\n"
     ]
    }
   ],
   "source": [
    "def get_matched_hrefs(soup, pattern):\n",
    "    matched_links = []\n",
    "    # Loop through all `a` tags\n",
    "    for a in soup.find_all('a'):\n",
    "        # Check if the text within the entire `a` tag matches the pattern\n",
    "        if pattern.search(a.get_text()) and 'href' in a.attrs:\n",
    "            matched_links.append(a['href'])\n",
    "    return matched_links\n",
    "\n",
    "# look for epub links in html\n",
    "pattern = re.compile(r'(ebook|epub)', re.IGNORECASE)\n",
    "\n",
    "n = 0\n",
    "filelist = glob.glob(f'{cache_dir}/html/*.html')\n",
    "for fpath in filelist:\n",
    "    key = fpath.split('/')[-1].split('.')[0]\n",
    "   \n",
    "    soup = BeautifulSoup(open(fpath,'rb').read(), 'html.parser')\n",
    "    links = get_matched_hrefs(soup, pattern)\n",
    "    \n",
    "    if not links:\n",
    "        n += 1\n",
    "        continue\n",
    "\n",
    "    url = links[0]\n",
    "    print(url)\n",
    "    response, ext = determine_file_type(url, headers)\n",
    "    \n",
    "    if ext in [\"pdf\", \"epub\"]:\n",
    "        write_file(response.content, f\"{cache_dir}/binary/{key}.{ext}\")\n",
    "    else:\n",
    "        print(f\"{row.key}: unrecognized binary file\")\n",
    "        "
   ]
  },
  {
   "cell_type": "code",
   "execution_count": 96,
   "id": "e432e813-f595-450c-9289-321b4e956cdd",
   "metadata": {},
   "outputs": [
    {
     "data": {
      "text/plain": [
       "['https://oercollective.caul.edu.au/threshold-concepts-in-biochemistry/open/download?type=epub']"
      ]
     },
     "execution_count": 96,
     "metadata": {},
     "output_type": "execute_result"
    }
   ],
   "source": [
    "# def get_matched_hrefs(soup, pattern):\n",
    "#     matched_links = []\n",
    "#     # Loop through all `a` tags\n",
    "#     for a in soup.find_all('a'):\n",
    "#         # Check if the text within the entire `a` tag matches the pattern\n",
    "#         if pattern.search(a.get_text()) and 'href' in a.attrs:\n",
    "#             matched_links.append(a['href'])\n",
    "#     return matched_links\n",
    "    \n",
    "# # Compile a regular expression pattern to match \"ebook\" or \"EPUB\" (case-insensitive)\n",
    "# pattern = re.compile(r'(ebook|epub)', re.IGNORECASE)\n",
    "    \n",
    "# fpath = \"/Users/jfries/Desktop/open_textbook_library_final/cache/html/threshold-concepts-in-biochemistry.html\"\n",
    "# soup = BeautifulSoup(open(fpath,'rb').read(), 'html.parser') \n",
    "\n",
    "\n",
    "# get_matched_hrefs(soup, pattern)"
   ]
  },
  {
   "cell_type": "code",
   "execution_count": 65,
   "id": "1219ab30-5229-4de7-bb0e-733e064bd1b1",
   "metadata": {},
   "outputs": [
    {
     "data": {
      "text/plain": [
       "(68, 111)"
      ]
     },
     "execution_count": 65,
     "metadata": {},
     "output_type": "execute_result"
    }
   ],
   "source": [
    "# len(set(df.key))\n",
    "\n",
    "text_root = \"/Users/jfries/Desktop/Sept 12 organize/opentextbooks/text/\"\n",
    "\n",
    "n = 0\n",
    "for row in df.itertuples():\n",
    "    fpath = f\"{text_root}/{row.key}.txt\"\n",
    "    if os.path.exists(fpath):\n",
    "        n += 1\n",
    "        \n",
    "n, len(df)\n",
    "\n",
    "# https://open.umn.edu/opentextbooks/formats/3650  \n",
    "# https://open.umn.edu/opentextbooks/formats/3457 "
   ]
  },
  {
   "cell_type": "code",
   "execution_count": 132,
   "id": "5d60a4f7-09ff-4558-b3ed-a52053f8f593",
   "metadata": {},
   "outputs": [
    {
     "name": "stdout",
     "output_type": "stream",
     "text": [
      "3845\n"
     ]
    }
   ],
   "source": [
    "import re\n",
    "import os\n",
    "from ebooklib import epub\n",
    "from lxml import html\n",
    "from bs4 import BeautifulSoup\n",
    "import html2text\n",
    "import pickle \n",
    "import json\n",
    "\n",
    "def extract_main_content(soup):\n",
    "    \n",
    "    # Remove unwanted elements like scripts and styles\n",
    "    for script in soup(['script', 'style']):\n",
    "        script.extract()\n",
    "\n",
    "    # convert main HTML elments to markdown\n",
    "    converter = html2text.HTML2Text()\n",
    "    converter.ignore_links = True  # Ignore converting links to markdown\n",
    "    converter.body_width = 0  # Disable fixed width wrapping\n",
    "    converter.use_italics = False\n",
    "    markdown_content = converter.handle(str(soup))\n",
    "\n",
    "    # remove extranenous newlines\n",
    "    markdown_content = re.sub(r'(?<!_)\\_(?!\\_)', '', markdown_content) \n",
    "    markdown_content = re.sub(r'\\n{3,}', '\\n\\n', markdown_content) \n",
    "    return markdown_content\n",
    "\n",
    "\n",
    "def extract_html_from_epub(epub_path, output_dir):\n",
    "    # Load the EPUB book\n",
    "    book = epub.read_epub(epub_path)\n",
    "\n",
    "    # Ensure the output directory exists\n",
    "    if not os.path.exists(output_dir):\n",
    "        os.makedirs(output_dir)\n",
    "\n",
    "    # Extract HTML content from the EPUB book\n",
    "    for item in book.get_items_of_type(ebooklib.ITEM_DOCUMENT):\n",
    "        # Get the file name and path for the HTML content\n",
    "        file_name = os.path.basename(item.file_name)\n",
    "        output_path = os.path.join(output_dir, file_name)\n",
    "\n",
    "        # Write the HTML content to a file\n",
    "        with open(output_path, 'w', encoding='utf-8') as f:\n",
    "            content = html.tostring(item.content, encoding='unicode', method='html')\n",
    "            f.write(content)\n",
    "\n",
    "    print(f\"HTML files extracted to {output_dir}\")\n",
    "\n",
    "\n",
    "epubs = glob.glob('/Users/jfries/Desktop/open_textbook_library_final/cache/binary/*.epub')\n",
    "outputdir = \"/Users/jfries/Desktop/open_textbook_library_final/\"\n",
    "\n",
    "# parse ebooks\n",
    "jsonl = []\n",
    "for fpath in epubs:\n",
    "    book = epub.read_epub(fpath)\n",
    "    sections = {}\n",
    "    for i,item in enumerate(book.get_items_of_type(ebooklib.ITEM_DOCUMENT)):\n",
    "        soup = BeautifulSoup(item.content, 'html.parser')\n",
    "        key = str(item).split(':')[-1].split('.')[0]\n",
    "        sections[key] = extract_main_content(soup)\n",
    "\n",
    "    name = fpath.split('/')[-1].split('.')[0]\n",
    "    \n",
    "    text = '\\n'.join([sections[key] for key in sections])\n",
    "    with open(f'{outputdir}/markdown/{name}.md','w') as file:\n",
    "        file.write(text)\n",
    "\n",
    "    # dump to jsonl\n",
    "    for key in sections: \n",
    "        d = {'id': f\"{name}:{key}\", 'textbook_name':name, 'text': sections[key]}\n",
    "        jsonl.append(json.dumps(d))\n",
    "    \n",
    "print(len(jsonl))\n"
   ]
  },
  {
   "cell_type": "code",
   "execution_count": 134,
   "id": "a6b26a59-e4b5-4a98-bc86-9581b80a8136",
   "metadata": {},
   "outputs": [],
   "source": [
    "with open(f'{outputdir}/jsonl/train.jsonl','w') as file:\n",
    "    for line in jsonl:\n",
    "        file.write(line + '\\n')"
   ]
  },
  {
   "cell_type": "code",
   "execution_count": null,
   "id": "6c0741fe-3a61-4423-8669-9f178758844f",
   "metadata": {},
   "outputs": [],
   "source": []
  }
 ],
 "metadata": {
  "kernelspec": {
   "display_name": "biomedical",
   "language": "python",
   "name": "biomedical"
  },
  "language_info": {
   "codemirror_mode": {
    "name": "ipython",
    "version": 3
   },
   "file_extension": ".py",
   "mimetype": "text/x-python",
   "name": "python",
   "nbconvert_exporter": "python",
   "pygments_lexer": "ipython3",
   "version": "3.8.18"
  }
 },
 "nbformat": 4,
 "nbformat_minor": 5
}
