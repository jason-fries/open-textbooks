{
 "cells": [
  {
   "cell_type": "code",
   "execution_count": 144,
   "id": "c10e1cad",
   "metadata": {},
   "outputs": [],
   "source": [
    "import re\n",
    "import glob\n",
    "import pandas as pd\n",
    "import bs4"
   ]
  },
  {
   "cell_type": "code",
   "execution_count": 159,
   "id": "327cc5f1",
   "metadata": {},
   "outputs": [
    {
     "name": "stdout",
     "output_type": "stream",
     "text": [
      "['Social Sciences.html', 'Science.html', 'College Success.html', 'Humanities.html', 'Essentials.html', 'Business.html', 'Math.html', 'K12.html']\n"
     ]
    }
   ],
   "source": [
    "filelist = glob.glob('*.html')\n",
    "print(filelist)\n",
    "data = {\n",
    "    fpath.split(\".\")[0]:open(fpath,'r').read()\n",
    "    for fpath in filelist\n",
    "}"
   ]
  },
  {
   "cell_type": "code",
   "execution_count": 173,
   "id": "2df303d2",
   "metadata": {},
   "outputs": [],
   "source": [
    "from bs4 import BeautifulSoup\n",
    "\n",
    "#soup = BeautifulSoup(html, 'html.parser')\n",
    "\n",
    "def get_textbook_links(data):\n",
    "    \n",
    "    links = set()\n",
    "    for category, html in data.items():\n",
    "        \n",
    "        soup = BeautifulSoup(html, 'html.parser')\n",
    "        section = soup.find(\"div\", {\"data-analytics-content-list\": f\"Subjects ({category})\"})\n",
    "     \n",
    "        tags = section.find_all('a', href=True)\n",
    "        for tag in tags:\n",
    "            if re.search('/details/books/', tag['href']) and '%' not in tag['href']:\n",
    "                name = tag['href'].split('/')[-1]\n",
    "                web = f\"https://openstax.org/books/{name}/pages/preface\"\n",
    "                links.add((category, tag['href'], web))\n",
    "                 \n",
    "    return list(links)\n",
    "\n",
    "links = get_textbook_links(data)\n"
   ]
  },
  {
   "cell_type": "code",
   "execution_count": 174,
   "id": "dbb10d72",
   "metadata": {},
   "outputs": [],
   "source": [
    "df = pd.DataFrame(sorted(links), columns=['category','details','url']) "
   ]
  },
  {
   "cell_type": "code",
   "execution_count": 175,
   "id": "fc87aedb",
   "metadata": {},
   "outputs": [
    {
     "data": {
      "text/html": [
       "<div>\n",
       "<style scoped>\n",
       "    .dataframe tbody tr th:only-of-type {\n",
       "        vertical-align: middle;\n",
       "    }\n",
       "\n",
       "    .dataframe tbody tr th {\n",
       "        vertical-align: top;\n",
       "    }\n",
       "\n",
       "    .dataframe thead th {\n",
       "        text-align: right;\n",
       "    }\n",
       "</style>\n",
       "<table border=\"1\" class=\"dataframe\">\n",
       "  <thead>\n",
       "    <tr style=\"text-align: right;\">\n",
       "      <th></th>\n",
       "      <th>category</th>\n",
       "      <th>details</th>\n",
       "      <th>url</th>\n",
       "    </tr>\n",
       "  </thead>\n",
       "  <tbody>\n",
       "    <tr>\n",
       "      <th>0</th>\n",
       "      <td>Business</td>\n",
       "      <td>https://openstax.org/details/books/business-et...</td>\n",
       "      <td>https://openstax.org/books/business-ethics/pag...</td>\n",
       "    </tr>\n",
       "    <tr>\n",
       "      <th>1</th>\n",
       "      <td>Business</td>\n",
       "      <td>https://openstax.org/details/books/business-la...</td>\n",
       "      <td>https://openstax.org/books/business-law-i-esse...</td>\n",
       "    </tr>\n",
       "    <tr>\n",
       "      <th>2</th>\n",
       "      <td>Business</td>\n",
       "      <td>https://openstax.org/details/books/entrepreneu...</td>\n",
       "      <td>https://openstax.org/books/entrepreneurship/pa...</td>\n",
       "    </tr>\n",
       "    <tr>\n",
       "      <th>3</th>\n",
       "      <td>Business</td>\n",
       "      <td>https://openstax.org/details/books/introductio...</td>\n",
       "      <td>https://openstax.org/books/introduction-busine...</td>\n",
       "    </tr>\n",
       "    <tr>\n",
       "      <th>4</th>\n",
       "      <td>Business</td>\n",
       "      <td>https://openstax.org/details/books/introductio...</td>\n",
       "      <td>https://openstax.org/books/introduction-intell...</td>\n",
       "    </tr>\n",
       "    <tr>\n",
       "      <th>...</th>\n",
       "      <td>...</td>\n",
       "      <td>...</td>\n",
       "      <td>...</td>\n",
       "    </tr>\n",
       "    <tr>\n",
       "      <th>70</th>\n",
       "      <td>Social Sciences</td>\n",
       "      <td>https://openstax.org/details/books/principles-...</td>\n",
       "      <td>https://openstax.org/books/principles-economic...</td>\n",
       "    </tr>\n",
       "    <tr>\n",
       "      <th>71</th>\n",
       "      <td>Social Sciences</td>\n",
       "      <td>https://openstax.org/details/books/principles-...</td>\n",
       "      <td>https://openstax.org/books/principles-macroeco...</td>\n",
       "    </tr>\n",
       "    <tr>\n",
       "      <th>72</th>\n",
       "      <td>Social Sciences</td>\n",
       "      <td>https://openstax.org/details/books/principles-...</td>\n",
       "      <td>https://openstax.org/books/principles-microeco...</td>\n",
       "    </tr>\n",
       "    <tr>\n",
       "      <th>73</th>\n",
       "      <td>Social Sciences</td>\n",
       "      <td>https://openstax.org/details/books/psychologia...</td>\n",
       "      <td>https://openstax.org/books/psychologia-polska/...</td>\n",
       "    </tr>\n",
       "    <tr>\n",
       "      <th>74</th>\n",
       "      <td>Social Sciences</td>\n",
       "      <td>https://openstax.org/details/books/psychology-2e</td>\n",
       "      <td>https://openstax.org/books/psychology-2e/pages...</td>\n",
       "    </tr>\n",
       "  </tbody>\n",
       "</table>\n",
       "<p>75 rows × 3 columns</p>\n",
       "</div>"
      ],
      "text/plain": [
       "           category                                            details  \\\n",
       "0          Business  https://openstax.org/details/books/business-et...   \n",
       "1          Business  https://openstax.org/details/books/business-la...   \n",
       "2          Business  https://openstax.org/details/books/entrepreneu...   \n",
       "3          Business  https://openstax.org/details/books/introductio...   \n",
       "4          Business  https://openstax.org/details/books/introductio...   \n",
       "..              ...                                                ...   \n",
       "70  Social Sciences  https://openstax.org/details/books/principles-...   \n",
       "71  Social Sciences  https://openstax.org/details/books/principles-...   \n",
       "72  Social Sciences  https://openstax.org/details/books/principles-...   \n",
       "73  Social Sciences  https://openstax.org/details/books/psychologia...   \n",
       "74  Social Sciences   https://openstax.org/details/books/psychology-2e   \n",
       "\n",
       "                                                  url  \n",
       "0   https://openstax.org/books/business-ethics/pag...  \n",
       "1   https://openstax.org/books/business-law-i-esse...  \n",
       "2   https://openstax.org/books/entrepreneurship/pa...  \n",
       "3   https://openstax.org/books/introduction-busine...  \n",
       "4   https://openstax.org/books/introduction-intell...  \n",
       "..                                                ...  \n",
       "70  https://openstax.org/books/principles-economic...  \n",
       "71  https://openstax.org/books/principles-macroeco...  \n",
       "72  https://openstax.org/books/principles-microeco...  \n",
       "73  https://openstax.org/books/psychologia-polska/...  \n",
       "74  https://openstax.org/books/psychology-2e/pages...  \n",
       "\n",
       "[75 rows x 3 columns]"
      ]
     },
     "execution_count": 175,
     "metadata": {},
     "output_type": "execute_result"
    }
   ],
   "source": [
    "df"
   ]
  },
  {
   "cell_type": "code",
   "execution_count": 176,
   "id": "dfde8129",
   "metadata": {},
   "outputs": [],
   "source": [
    "df.to_csv('stupid.tsv', index=False, sep='\\t')"
   ]
  },
  {
   "cell_type": "code",
   "execution_count": null,
   "id": "d15bc7cc",
   "metadata": {},
   "outputs": [],
   "source": []
  }
 ],
 "metadata": {
  "kernelspec": {
   "display_name": "promptly",
   "language": "python",
   "name": "promptly"
  },
  "language_info": {
   "codemirror_mode": {
    "name": "ipython",
    "version": 3
   },
   "file_extension": ".py",
   "mimetype": "text/x-python",
   "name": "python",
   "nbconvert_exporter": "python",
   "pygments_lexer": "ipython3",
   "version": "3.10.9"
  }
 },
 "nbformat": 4,
 "nbformat_minor": 5
}
