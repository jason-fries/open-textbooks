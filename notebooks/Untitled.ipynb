{
 "cells": [
  {
   "cell_type": "code",
   "execution_count": 8,
   "id": "cc040350-3b84-4d2c-85e8-dc268782e94b",
   "metadata": {},
   "outputs": [],
   "source": [
    "import re\n",
    "import pandas as pd"
   ]
  },
  {
   "cell_type": "code",
   "execution_count": 17,
   "id": "dd74b7cb-ac4c-4f23-b9be-594758402ec3",
   "metadata": {},
   "outputs": [
    {
     "name": "stdout",
     "output_type": "stream",
     "text": [
      "\"https://openstax.org/books/anatomy-and-physiology-2e/pages/preface\",\n",
      "\"https://openstax.org/books/astronomy-2e/pages/preface\",\n",
      "\"https://openstax.org/books/biology-2e/pages/preface\",\n",
      "\"https://openstax.org/books/biology-ap-courses/pages/preface\",\n",
      "\"https://openstax.org/books/chemistry-2e/pages/preface\",\n",
      "\"https://openstax.org/books/chemistry-atoms-first-2e/pages/preface\",\n",
      "\"https://openstax.org/books/college-physics-2e/pages/preface\",\n",
      "\"https://openstax.org/books/concepts-biology/pages/preface\",\n",
      "\"https://openstax.org/books/introduction-anthropology/pages/preface\",\n",
      "\"https://openstax.org/books/introduction-sociology-3e/pages/preface\",\n",
      "\"https://openstax.org/books/introductory-business-statistics/pages/preface\",\n",
      "\"https://openstax.org/books/introductory-statistics/pages/preface\",\n",
      "\"https://openstax.org/books/microbiology/pages/preface\",\n",
      "\"https://openstax.org/books/organizational-behavior/pages/preface\",\n",
      "\"https://openstax.org/books/physics/pages/preface\",\n",
      "\"https://openstax.org/books/psychology-2e/pages/preface\",\n",
      "\"https://openstax.org/books/university-physics-volume-1/pages/preface\",\n",
      "\"https://openstax.org/books/university-physics-volume-2/pages/preface\",\n",
      "\"https://openstax.org/books/university-physics-volume-3/pages/preface\",\n"
     ]
    }
   ],
   "source": [
    "filelist = [\n",
    "    \"/Users/jfries/Desktop/open_textbooks_clean/openstax/manifest.0.log\",\n",
    "    \"/Users/jfries/Desktop/open_textbooks_clean/openstax/manifest.1.log\",\n",
    "    \"/Users/jfries/Desktop/open_textbooks_clean/openstax/manifest.2.log\",\n",
    "    \"/Users/jfries/Desktop/open_textbooks_clean/openstax/manifest.3.log\",\n",
    "]\n",
    "\n",
    "rgx = r\"https://openstax.org/books/.+/pages/preface\"\n",
    "urls = {}\n",
    "for fname in filelist:\n",
    "    df = pd.read_csv(fname, sep='\\t')\n",
    "    for url in df.url:\n",
    "        if re.search(rgx,url):\n",
    "            urls[url] = 1\n",
    "\n",
    "for x in sorted(urls.keys()):\n",
    "    print(f'\"{x}\",')"
   ]
  },
  {
   "cell_type": "code",
   "execution_count": null,
   "id": "30074794-7e30-42de-b5dc-deb97b670a37",
   "metadata": {},
   "outputs": [],
   "source": []
  }
 ],
 "metadata": {
  "kernelspec": {
   "display_name": "VIVA",
   "language": "python",
   "name": "viva"
  },
  "language_info": {
   "codemirror_mode": {
    "name": "ipython",
    "version": 3
   },
   "file_extension": ".py",
   "mimetype": "text/x-python",
   "name": "python",
   "nbconvert_exporter": "python",
   "pygments_lexer": "ipython3",
   "version": "3.8.16"
  }
 },
 "nbformat": 4,
 "nbformat_minor": 5
}
