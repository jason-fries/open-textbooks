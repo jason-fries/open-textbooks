{
 "cells": [
  {
   "cell_type": "markdown",
   "id": "851c2cf8",
   "metadata": {},
   "source": [
    "# Scape BC Open Collection Textbooks"
   ]
  },
  {
   "cell_type": "code",
   "execution_count": 38,
   "id": "98269152",
   "metadata": {},
   "outputs": [],
   "source": [
    "import re\n",
    "import glob\n",
    "import pandas as pd"
   ]
  },
  {
   "cell_type": "code",
   "execution_count": 39,
   "id": "f16a9162",
   "metadata": {},
   "outputs": [],
   "source": [
    "filelist = glob.glob('*.html')\n",
    "data = {\n",
    "    fpath.split(\".\")[0]:open(fpath,'r').read()\n",
    "    for fpath in filelist\n",
    "}"
   ]
  },
  {
   "cell_type": "code",
   "execution_count": 42,
   "id": "82271771",
   "metadata": {},
   "outputs": [],
   "source": [
    "def get_textbook_links(data):\n",
    "    links = []\n",
    "    for category, html in data.items():\n",
    "        hrefs = re.findall('href=\".+?\"', html)\n",
    "        for x in hrefs:\n",
    "            if re.search('/textbooks/',x) and 'openstax' not in x:\n",
    "                m = re.search(r'href=\"(.+)\"', x)\n",
    "                links.append([category,m.group(1)])\n",
    "    return links\n",
    "\n",
    "links = get_textbook_links(data)\n",
    "df = pd.DataFrame(links, columns=['category','url'])"
   ]
  },
  {
   "cell_type": "code",
   "execution_count": 46,
   "id": "ec86bf58",
   "metadata": {},
   "outputs": [],
   "source": [
    "df.to_csv('bccampus_open_collection.tsv', sep='\\t', index=False)"
   ]
  },
  {
   "cell_type": "code",
   "execution_count": null,
   "id": "48fd6130",
   "metadata": {},
   "outputs": [],
   "source": [
    "# https://opentextbc.ca/barberingtechniquesforhairstylists/open/download?type=pdf\n",
    "\n",
    "https://opentextbc.ca/introductiontopsychology/open/download?type=pdf"
   ]
  }
 ],
 "metadata": {
  "kernelspec": {
   "display_name": "promptly",
   "language": "python",
   "name": "promptly"
  },
  "language_info": {
   "codemirror_mode": {
    "name": "ipython",
    "version": 3
   },
   "file_extension": ".py",
   "mimetype": "text/x-python",
   "name": "python",
   "nbconvert_exporter": "python",
   "pygments_lexer": "ipython3",
   "version": "3.10.9"
  }
 },
 "nbformat": 4,
 "nbformat_minor": 5
}
